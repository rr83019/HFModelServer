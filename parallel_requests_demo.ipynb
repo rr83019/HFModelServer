{
  "cells": [
    {
      "cell_type": "markdown",
      "id": "a79cafae",
      "metadata": {
        "id": "a79cafae"
      },
      "source": [
        "# Parallel Requests Demo with Training, Embedding, and Search\n",
        "\n",
        "This notebook demonstrates how to:\n",
        "1. Read a text file (`cosmos.txt`), split it into sentences.\n",
        "2. Use the first 10% of sentences to call the `/train` endpoint.\n",
        "3. Use the remaining 90% of sentences to call the `/embed` endpoint in parallel.\n",
        "4. Generate 20 questions about *Cosmos* by Carl Sagan and send them in parallel to the `/search` endpoint.\n",
        "\n",
        "We use Python's `concurrent.futures` and `requests` to send multiple requests concurrently."
      ]
    },
    {
      "cell_type": "code",
      "source": [
        "# Install necessary libraries if not already installed\n",
        "!pip install requests nltk\n",
        "\n",
        "# Download nltk punkt tokenizer data\n",
        "import nltk\n",
        "nltk.download('punkt')\n",
        "# Download the specific punkt_tab resource needed for sentence tokenization\n",
        "nltk.download('punkt_tab')"
      ],
      "metadata": {
        "colab": {
          "base_uri": "https://localhost:8080/"
        },
        "id": "bTCIkUBbJcZP",
        "outputId": "7d3d8513-a288-44d3-a309-a3dd628abb0b"
      },
      "id": "bTCIkUBbJcZP",
      "execution_count": 1,
      "outputs": [
        {
          "output_type": "stream",
          "name": "stdout",
          "text": [
            "Requirement already satisfied: requests in /usr/local/lib/python3.11/dist-packages (2.32.3)\n",
            "Requirement already satisfied: nltk in /usr/local/lib/python3.11/dist-packages (3.9.1)\n",
            "Requirement already satisfied: charset-normalizer<4,>=2 in /usr/local/lib/python3.11/dist-packages (from requests) (3.4.2)\n",
            "Requirement already satisfied: idna<4,>=2.5 in /usr/local/lib/python3.11/dist-packages (from requests) (3.10)\n",
            "Requirement already satisfied: urllib3<3,>=1.21.1 in /usr/local/lib/python3.11/dist-packages (from requests) (2.4.0)\n",
            "Requirement already satisfied: certifi>=2017.4.17 in /usr/local/lib/python3.11/dist-packages (from requests) (2025.4.26)\n",
            "Requirement already satisfied: click in /usr/local/lib/python3.11/dist-packages (from nltk) (8.2.1)\n",
            "Requirement already satisfied: joblib in /usr/local/lib/python3.11/dist-packages (from nltk) (1.5.0)\n",
            "Requirement already satisfied: regex>=2021.8.3 in /usr/local/lib/python3.11/dist-packages (from nltk) (2024.11.6)\n",
            "Requirement already satisfied: tqdm in /usr/local/lib/python3.11/dist-packages (from nltk) (4.67.1)\n"
          ]
        },
        {
          "output_type": "stream",
          "name": "stderr",
          "text": [
            "[nltk_data] Downloading package punkt to /root/nltk_data...\n",
            "[nltk_data]   Unzipping tokenizers/punkt.zip.\n",
            "[nltk_data] Downloading package punkt_tab to /root/nltk_data...\n",
            "[nltk_data]   Unzipping tokenizers/punkt_tab.zip.\n"
          ]
        },
        {
          "output_type": "execute_result",
          "data": {
            "text/plain": [
              "True"
            ]
          },
          "metadata": {},
          "execution_count": 1
        }
      ]
    },
    {
      "cell_type": "code",
      "execution_count": 14,
      "id": "c09578d0",
      "metadata": {
        "id": "c09578d0"
      },
      "outputs": [],
      "source": [
        "import requests\n",
        "from concurrent.futures import ThreadPoolExecutor, as_completed\n",
        "import nltk\n",
        "from nltk.tokenize import sent_tokenize\n",
        "\n",
        "# API endpoint URLs\n",
        "TRAIN_URL = 'http://localhost:8000/train'\n",
        "EMBED_URL = 'http://localhost:8000/embed'\n",
        "SEARCH_URL = 'http://localhost:8000/search'\n",
        "\n",
        "# Path to the text file containing content of 'Cosmos' by Carl Sagan\n",
        "TEXT_FILE = 'cosmos.txt'\n"
      ]
    },
    {
      "cell_type": "code",
      "execution_count": 15,
      "id": "63305316",
      "metadata": {
        "colab": {
          "base_uri": "https://localhost:8080/"
        },
        "id": "63305316",
        "outputId": "92a0f839-4585-4ee6-8698-b24628d4fded"
      },
      "outputs": [
        {
          "output_type": "stream",
          "name": "stdout",
          "text": [
            "Total sentences extracted: 6455\n"
          ]
        }
      ],
      "source": [
        "# Read the book text from 'cosmos.txt'\n",
        "with open(TEXT_FILE, 'r', encoding='utf-8') as f:\n",
        "    text = f.read()\n",
        "\n",
        "# Use nltk's sent_tokenize to split into sentences\n",
        "sentences = sent_tokenize(text)\n",
        "print(f\"Total sentences extracted: {len(sentences)}\")\n"
      ]
    },
    {
      "cell_type": "code",
      "execution_count": 16,
      "id": "a49c3345",
      "metadata": {
        "colab": {
          "base_uri": "https://localhost:8080/"
        },
        "id": "a49c3345",
        "outputId": "15f4094a-4e0b-4fb7-d60c-9d3868b014d8"
      },
      "outputs": [
        {
          "output_type": "stream",
          "name": "stdout",
          "text": [
            "Using 322 sentences for training and 1678 for embedding.\n"
          ]
        }
      ],
      "source": [
        "# Determine split index for 10% train, 95% embed\n",
        "split_idx = max(1, int(len(sentences) * 0.1))  # Ensure at least one sentence in train\n",
        "train_sentences = sentences[:split_idx]\n",
        "embed_sentences = sentences[split_idx:]\n",
        "print(f\"Using {len(train_sentences)} sentences for training and {len(embed_sentences)} for embedding.\")\n"
      ]
    },
    {
      "cell_type": "code",
      "execution_count": 17,
      "id": "9b20f2c2",
      "metadata": {
        "id": "9b20f2c2"
      },
      "outputs": [],
      "source": [
        "def call_train(sent_list):\n",
        "    payload = {\"sentences\": sent_list}\n",
        "    try:\n",
        "        response = requests.post(TRAIN_URL, json=payload)\n",
        "        response.raise_for_status()\n",
        "        return response.json()\n",
        "    except Exception as e:\n",
        "        return {\"error\": str(e)}\n",
        "\n",
        "def call_embed(sent_list):\n",
        "    payload = {\"sentences\": sent_list}\n",
        "    try:\n",
        "        response = requests.post(EMBED_URL, json=payload)\n",
        "        response.raise_for_status()\n",
        "        return response.json()\n",
        "    except Exception as e:\n",
        "        return {\"error\": str(e)}\n",
        "\n",
        "def call_search(query, k=5):\n",
        "    payload = {\"query\": query, \"k\": k}\n",
        "    try:\n",
        "        response = requests.post(SEARCH_URL, json=payload)\n",
        "        response.raise_for_status()\n",
        "        return response.json()\n",
        "    except Exception as e:\n",
        "        return {\"error\": str(e)}\n"
      ]
    },
    {
      "cell_type": "code",
      "execution_count": 18,
      "id": "e7cec2a8",
      "metadata": {
        "colab": {
          "base_uri": "https://localhost:8080/"
        },
        "id": "e7cec2a8",
        "outputId": "d9584835-f9fe-435b-cbb1-52b5e2eee05c"
      },
      "outputs": [
        {
          "output_type": "stream",
          "name": "stdout",
          "text": [
            "Calling /train endpoint...\n",
            "Train response: {'message': 'Training complete'}\n"
          ]
        }
      ],
      "source": [
        "print(\"Calling /train endpoint...\")\n",
        "train_resp = call_train(train_sentences)\n",
        "print(\"Train response:\", train_resp)\n"
      ]
    },
    {
      "cell_type": "code",
      "execution_count": 19,
      "id": "e5b5d1b2",
      "metadata": {
        "colab": {
          "base_uri": "https://localhost:8080/"
        },
        "id": "e5b5d1b2",
        "outputId": "f19c2b8d-38f9-4051-bba4-52d463897fc1"
      },
      "outputs": [
        {
          "output_type": "stream",
          "name": "stdout",
          "text": [
            "Calling /embed endpoint in parallel for embed sentences...\n",
            "Completed embedding 1678 sentences.\n",
            "Sample result: ('He used the smallest possible circumference of the Earth and the greatest\\neastward extension of Asia he could find in all the books available to him, and then\\nexaggerated even those.', {'embeddings': [[0.016672559082508087, 0.11609943956136703, -0.027639606967568398, -0.005315684247761965, -0.07242153584957123, -0.04227735474705696, -0.013767463155090809, 0.11548683047294617, -0.03979802131652832, 0.05069296061992645, 0.007707843091338873, -0.007357427850365639, 0.004697429481893778, 0.010539188049733639, -0.03893382102251053, -0.0630641058087349, -0.06190153583884239, 0.05519114434719086, -0.07222773134708405, -0.0764242559671402, 0.009512334130704403, 0.0229574516415596, 0.06448265165090561, 0.026010476052761078, 0.03295792266726494, -0.025764580816030502, -0.0014381457585841417, -0.0995594784617424, 0.03767015412449837, 0.019046543166041374, -0.005719668231904507, 0.041140541434288025, 0.039171602576971054, -0.01251140609383583, -0.03744277358055115, 0.02947263978421688, 0.0026813517324626446, 0.1005532369017601, 0.07700470089912415, -0.02255004644393921, 0.05016724392771721, 0.007908368483185768, 0.08575950562953949, 0.09087678790092468, -0.040493521839380264, -0.02800450287759304, -0.03635402396321297, 0.0170539952814579, -0.02380397357046604, 0.026140015572309494, 0.0036452061031013727, 0.025311656296253204, -0.10330793261528015, -0.07756579667329788, 0.036258019506931305, -0.007157033309340477, -0.0032333340495824814, -0.010284126736223698, 0.018005849793553352, 0.004342404194176197, -0.0020851397421211004, -0.026439037173986435, -0.03332749381661415, 0.01076835673302412, -0.02201935090124607, 0.022366905584931374, -0.022409645840525627, -0.05212080851197243, -0.10900316387414932, 0.09243760257959366, 0.008154768496751785, 0.059602681547403336, -0.009698180481791496, -0.013187295757234097, 0.02023438736796379, -0.10380508005619049, -0.07631508260965347, 0.004862222354859114, -0.04353707656264305, 0.011895913630723953, -0.021742962300777435, 0.08307269960641861, -0.021631086245179176, 0.036820173263549805, -0.03590642288327217, 0.05498005822300911, 0.019969487562775612, -0.10672120004892349, 0.02739630825817585, -0.04855400696396828, 0.1435931921005249, -0.13267116248607635, -0.029292872175574303, 0.04947007820010185, -0.03571168705821037, -0.01392444595694542, -0.10539136081933975, -0.021936653181910515, -0.03668385371565819, -0.02101457118988037, 0.11963090300559998, 0.05855332314968109, 0.03903853893280029, 0.02361614629626274, -0.04401462525129318, -0.02717539668083191, -0.05238424241542816, -0.009644940495491028, 0.037322595715522766, -0.011772987432777882, -0.08018151670694351, -0.05201154202222824, -0.03479025140404701, -0.006459419149905443, 0.0196355190128088, 0.01600688137114048, 0.05550605058670044, -0.005759620573371649, -0.05273638293147087, 0.005444702692329884, -0.027535464614629745, 0.04088972508907318, 0.010064436122775078, 0.08787186443805695, -0.034841883927583694, 0.026042405515909195, 0.03540103882551193, -1.851534559962624e-33, 0.05000708997249603, 0.03344479575753212, 0.07673536986112595, 0.08682984858751297, -0.02403131127357483, 0.02657487988471985, -0.0028529001865535975, -0.024049019441008568, 0.05046965926885605, -0.06974734365940094, -0.03481359779834747, 0.06828510016202927, 0.012372652068734169, 0.0228350218385458, 0.015880296006798744, 0.0695619285106659, -0.004200671799480915, 0.05083322897553444, 0.003990704193711281, -0.02408071607351303, 0.01197965070605278, 0.004199386108666658, 0.06687778979539871, -0.1024494618177414, 0.02375645749270916, 0.03304927051067352, 0.036991219967603683, -0.042835433036088943, -0.018656570464372635, 0.01880059204995632, -0.08546371757984161, -0.016792014241218567, -0.06368029117584229, 0.037312932312488556, 0.0012267875717952847, 0.023193826898932457, -0.05286858230829239, -0.047886285930871964, -0.01964787393808365, 0.06972379237413406, 0.08385936915874481, 0.03435172140598297, 0.0290240366011858, -0.021847063675522804, 0.011516985483467579, 0.02218075841665268, 0.03405221179127693, 0.06534234434366226, 0.053332146257162094, 0.07156741619110107, -0.005571960471570492, 0.07398835569620132, 0.01897422783076763, -0.12271120399236679, 0.12174689024686813, 0.013788995333015919, -0.010813578963279724, -0.004019480664283037, 0.008154298178851604, 0.059914689511060715, 0.04081982001662254, -0.008697443641722202, 0.017727825790643692, 0.11718714982271194, -0.009374123066663742, 0.031723618507385254, -0.12276732921600342, -0.04847529157996178, -0.09935785084962845, -0.002024946268647909, -0.03388434648513794, -0.028467990458011627, 0.03415793925523758, -0.014853255823254585, -0.027763409540057182, -0.038549065589904785, -0.027100006118416786, -0.03275986388325691, -0.09797940403223038, 0.006439979653805494, -0.06692499667406082, -0.010703982785344124, 0.024256929755210876, -0.04276207834482193, -0.10248509049415588, -0.013070931658148766, 0.04997741058468819, -0.0004205309960525483, 0.002126523293554783, -0.07767988741397858, -0.04751623049378395, -0.042497310787439346, -0.020031798630952835, -0.08293069154024124, -0.06971641629934311, -2.4636107031804467e-34, -0.09645489603281021, -0.0392158180475235, 0.012438688427209854, 0.054778728634119034, -0.03359436243772507, -0.029605014249682426, -0.06164735555648804, 0.05337400361895561, -0.028942828997969627, -0.0663260743021965, -0.023887550458312035, 0.0368659570813179, 0.09093429148197174, -0.06959514319896698, 0.025802401825785637, -0.042548514902591705, 0.05408988520503044, -0.020091252401471138, -0.052378468215465546, 0.0460437536239624, 0.09941069781780243, -0.10464615374803543, -0.03471856936812401, -0.04445017874240875, 0.010219689458608627, 0.01171602588146925, 0.029115824028849602, -0.090660460293293, -0.07172633707523346, 0.03441380709409714, -0.05262245982885361, -0.01054454781115055, -0.04659517481923103, 0.042139992117881775, -0.07262425124645233, -0.04293065518140793, -0.027550645172595978, 0.022824889048933983, -0.01986103691160679, -0.04418177902698517, -0.033398572355508804, 0.061042554676532745, 0.10674171149730682, -0.04067327827215195, -0.039983443915843964, -0.013645288534462452, -0.0036481160204857588, 0.10488101094961166, 0.005587543826550245, -0.001684667426161468, -0.04841405525803566, 0.0023774399887770414, 0.024476919323205948, 0.0006120777688920498, 0.006914426106959581, 0.005788952577859163, -0.05040121078491211, 0.012361636385321617, 0.07358632236719131, -0.03337765857577324, -0.07817138731479645, -0.031239528208971024, 0.015600011684000492, 0.003976544830948114, -0.06524068117141724, -0.027887729927897453, 0.002438160590827465, 0.1017189547419548, -0.01487893145531416, 0.0008321648347191513, -0.0341978445649147, 0.04547413811087608, 0.05652642995119095, -0.0009162517380900681, -0.023146633058786392, 0.1191752701997757, 0.021997619420289993, -0.02957622893154621, 0.03752214461565018, -0.03961201384663582, -0.01416204497218132, -0.04825696721673012, 0.003959988243877888, 0.006534155458211899, 0.042024340480566025, 0.023302754387259483, -0.018037328496575356, -0.04045015946030617, 0.03450636565685272, 0.04910854995250702, -0.021719705313444138, -0.024897631257772446, 0.005384980700910091, 0.04473907873034477, 0.02114342711865902, -2.517911923405336e-08, -0.06628664582967758, 0.03501122072339058, 0.03235775604844093, 0.032762762159109116, -0.001835660426877439, 0.0804624930024147, 0.05979054048657417, 0.05925147980451584, -0.05519898608326912, 0.035715796053409576, -0.01254140492528677, 0.024528471753001213, 0.04359445348381996, 0.11830200999975204, 0.02383613772690296, -0.07441245764493942, 0.07890760898590088, -0.049760181456804276, -0.02229282446205616, 0.09964656829833984, 0.025009987875819206, 0.022631775587797165, 0.09876513481140137, -0.12968894839286804, 0.013544270768761635, 0.06234525889158249, -0.03214604780077934, 0.019098561257123947, -0.022631291300058365, -0.032611194998025894, 0.029187897220253944, -0.019004609435796738, -0.01720917783677578, -0.04870866984128952, -0.025860747322440147, 0.035685230046510696, -0.04459766298532486, 0.07962119579315186, -0.04184085875749588, -0.025713039562106133, -0.001210779882967472, 0.012603954412043095, 0.052272215485572815, 0.02850526198744774, 0.08084096759557724, 0.045730192214250565, 0.02403455413877964, 0.001528611988760531, -0.03651612624526024, 0.05519162863492966, -0.020300431177020073, 0.07411917299032211, 0.08401601761579514, -0.03316311910748482, 0.10257858783006668, -0.03621832653880119, 0.01657843589782715, -0.07667575776576996, -0.12559497356414795, 0.02624666690826416, -0.009014608338475227, -0.009692426770925522, -0.08306979387998581, 0.032494768500328064]]})\n"
          ]
        }
      ],
      "source": [
        "results_embed = []\n",
        "print(\"Calling /embed endpoint in parallel for embed sentences...\")\n",
        "with ThreadPoolExecutor(max_workers=5) as executor:\n",
        "    future_to_sent = {executor.submit(call_embed, [sent]): sent for sent in embed_sentences}\n",
        "    for future in as_completed(future_to_sent):\n",
        "        sent = future_to_sent[future]\n",
        "        data = future.result()\n",
        "        results_embed.append((sent, data))\n",
        "print(f\"Completed embedding {len(results_embed)} sentences.\")\n",
        "print(f\"Sample result: {results_embed[0]}\")\n"
      ]
    },
    {
      "cell_type": "markdown",
      "id": "6eed7b05",
      "metadata": {
        "id": "6eed7b05"
      },
      "source": [
        "Below are 20 example questions about *Cosmos* by Carl Sagan. We will send these to the `/search` endpoint in parallel to retrieve nearest neighbors from the index."
      ]
    },
    {
      "cell_type": "code",
      "execution_count": 20,
      "id": "2541fc38",
      "metadata": {
        "colab": {
          "base_uri": "https://localhost:8080/"
        },
        "id": "2541fc38",
        "outputId": "212f4d61-9ab7-4154-ca5e-8b613e1bd279"
      },
      "outputs": [
        {
          "output_type": "execute_result",
          "data": {
            "text/plain": [
              "20"
            ]
          },
          "metadata": {},
          "execution_count": 20
        }
      ],
      "source": [
        "questions = [\n",
        "    \"What inspired Carl Sagan to write Cosmos?\",\n",
        "    \"How does Cosmos explain the formation of galaxies?\",\n",
        "    \"Describe the role of Carl Sagan in popularizing science.\",\n",
        "    \"What is the significance of the Pale Blue Dot in Cosmos?\",\n",
        "    \"How does Cosmos discuss the concept of light travel time?\",\n",
        "    \"Explain Sagan's perspective on the search for extraterrestrial life.\",\n",
        "    \"What does Cosmos say about the cosmic calendar?\",\n",
        "    \"How are black holes described in Cosmos?\",\n",
        "    \"What examples of cosmic evolution are provided in Cosmos?\",\n",
        "    \"How does Sagan illustrate the scale of the universe?\",\n",
        "    \"What role do molecules play according to Cosmos?\",\n",
        "    \"Describe the segment on planetary exploration in Cosmos.\",\n",
        "    \"What is Carl Sagan's view on the future of humanity?\",\n",
        "    \"How does Cosmos address the origin of life?\",\n",
        "    \"Explain the trilogy of Cosmos episodes related to stars.\",\n",
        "    \"What narrative does Cosmos give about ancient civilizations?\",\n",
        "    \"How does Sagan describe the importance of skepticism?\",\n",
        "    \"What warnings does Cosmos offer regarding environmental issues?\",\n",
        "    \"How are supernovas explained in Cosmos?\",\n",
        "    \"What is the importance of the cosmic perspective in Cosmos?\"\n",
        "]\n",
        "len(questions)\n"
      ]
    },
    {
      "cell_type": "code",
      "execution_count": 24,
      "id": "7859fb5c",
      "metadata": {
        "colab": {
          "base_uri": "https://localhost:8080/"
        },
        "id": "7859fb5c",
        "outputId": "b85cd0ab-5aae-435c-ebc6-0300dca2c05d"
      },
      "outputs": [
        {
          "output_type": "stream",
          "name": "stdout",
          "text": [
            "Calling /search endpoint in parallel for questions...\n",
            "Completed search for 20 questions.\n",
            "Question 1: How does Cosmos explain the formation of galaxies?\n",
            "{'distances': [[0.9216623306274414, 0.9452494382858276, 1.0770094394683838, 1.1771094799041748, 1.2502926588058472]], 'indices': [[65, 69, 102, 106, 85]]}\n",
            "------------------------------------------------------------\n",
            "Question 2: What inspired Carl Sagan to write Cosmos?\n",
            "{'distances': [[0.8279215097427368, 1.0027190446853638, 1.0031050443649292, 1.0977003574371338, 1.1019446849822998]], 'indices': [[28, 27, 64, 70, 31]]}\n",
            "------------------------------------------------------------\n",
            "Question 3: Describe the role of Carl Sagan in popularizing science.\n",
            "{'distances': [[1.110882043838501, 1.1625306606292725, 1.1923024654388428, 1.2349016666412354, 1.3604211807250977]], 'indices': [[33, 32, 56, 36, 41]]}\n",
            "------------------------------------------------------------\n",
            "Question 4: How does Cosmos discuss the concept of light travel time?\n",
            "{'distances': [[1.0416734218597412, 1.0782113075256348, 1.1760835647583008, 1.1956889629364014, 1.3012981414794922]], 'indices': [[28, 64, 27, 70, 105]]}\n",
            "------------------------------------------------------------\n",
            "Question 5: What is the significance of the Pale Blue Dot in Cosmos?\n",
            "{'distances': [[1.0753217935562134, 1.1241655349731445, 1.1526216268539429, 1.3317737579345703, 1.3955883979797363]], 'indices': [[28, 31, 64, 70, 27]]}\n",
            "------------------------------------------------------------\n",
            "Question 6: Explain Sagan's perspective on the search for extraterrestrial life.\n",
            "{'distances': [[1.1578041315078735, 1.1988823413848877, 1.2336301803588867, 1.3052318096160889, 1.3273829221725464]], 'indices': [[105, 64, 70, 31, 30]]}\n",
            "------------------------------------------------------------\n",
            "Question 7: What does Cosmos say about the cosmic calendar?\n",
            "{'distances': [[0.8595094680786133, 0.9467487931251526, 1.1205737590789795, 1.1228275299072266, 1.1775243282318115]], 'indices': [[28, 64, 31, 27, 70]]}\n",
            "------------------------------------------------------------\n",
            "Question 8: How are black holes described in Cosmos?\n",
            "{'distances': [[1.2528849840164185, 1.2655906677246094, 1.3075511455535889, 1.4547033309936523, 1.4665255546569824]], 'indices': [[65, 69, 102, 53, 85]]}\n",
            "------------------------------------------------------------\n",
            "Question 9: What examples of cosmic evolution are provided in Cosmos?\n",
            "{'distances': [[0.9399996995925903, 1.0130815505981445, 1.0310883522033691, 1.036268711090088, 1.1405134201049805]], 'indices': [[105, 70, 64, 28, 120]]}\n",
            "------------------------------------------------------------\n",
            "Question 10: How does Sagan illustrate the scale of the universe?\n",
            "{'distances': [[1.0591528415679932, 1.0914148092269897, 1.1746611595153809, 1.2185657024383545, 1.3083970546722412]], 'indices': [[31, 70, 28, 64, 27]]}\n",
            "------------------------------------------------------------\n",
            "Question 11: What role do molecules play according to Cosmos?\n",
            "{'distances': [[1.007027268409729, 1.0778003931045532, 1.1023786067962646, 1.1927505731582642, 1.2398900985717773]], 'indices': [[28, 103, 27, 70, 30]]}\n",
            "------------------------------------------------------------\n",
            "Question 12: Describe the segment on planetary exploration in Cosmos.\n",
            "{'distances': [[0.9614647030830383, 1.070525884628296, 1.1003012657165527, 1.1659643650054932, 1.1904351711273193]], 'indices': [[28, 64, 70, 27, 31]]}\n",
            "------------------------------------------------------------\n",
            "Question 13: What is Carl Sagan's view on the future of humanity?\n",
            "{'distances': [[1.2038681507110596, 1.289836049079895, 1.3099673986434937, 1.3138549327850342, 1.3166117668151855]], 'indices': [[30, 105, 67, 64, 70]]}\n",
            "------------------------------------------------------------\n",
            "Question 14: How does Cosmos address the origin of life?\n",
            "{'distances': [[0.8000816106796265, 0.8503859043121338, 0.8907981514930725, 1.0226271152496338, 1.0677299499511719]], 'indices': [[105, 28, 64, 70, 27]]}\n",
            "------------------------------------------------------------\n",
            "Question 15: Explain the trilogy of Cosmos episodes related to stars.\n",
            "{'distances': [[1.0767797231674194, 1.0811326503753662, 1.087327241897583, 1.1440765857696533, 1.2201660871505737]], 'indices': [[85, 53, 65, 69, 102]]}\n",
            "------------------------------------------------------------\n",
            "Question 16: What narrative does Cosmos give about ancient civilizations?\n",
            "{'distances': [[0.8831129670143127, 0.9073646068572998, 0.9973028302192688, 1.2296267747879028, 1.2501168251037598]], 'indices': [[64, 28, 27, 70, 31]]}\n",
            "------------------------------------------------------------\n",
            "Question 17: How does Sagan describe the importance of skepticism?\n",
            "{'distances': [[1.5045002698898315, 1.5427894592285156, 1.5787885189056396, 1.5953644514083862, 1.606914758682251]], 'indices': [[57, 55, 36, 63, 39]]}\n",
            "------------------------------------------------------------\n",
            "Question 18: What warnings does Cosmos offer regarding environmental issues?\n",
            "{'distances': [[1.1161892414093018, 1.2558767795562744, 1.354797124862671, 1.4524593353271484, 1.4558626413345337]], 'indices': [[64, 28, 27, 103, 70]]}\n",
            "------------------------------------------------------------\n",
            "Question 19: How are supernovas explained in Cosmos?\n",
            "{'distances': [[1.118988275527954, 1.2570762634277344, 1.2603785991668701, 1.2959445714950562, 1.3007692098617554]], 'indices': [[65, 69, 102, 85, 84]]}\n",
            "------------------------------------------------------------\n",
            "Question 20: What is the importance of the cosmic perspective in Cosmos?\n",
            "{'distances': [[0.936458945274353, 0.9974824786186218, 1.0301048755645752, 1.032198190689087, 1.0884804725646973]], 'indices': [[70, 31, 27, 28, 64]]}\n",
            "------------------------------------------------------------\n"
          ]
        }
      ],
      "source": [
        "results_search = []\n",
        "print(\"Calling /search endpoint in parallel for questions...\")\n",
        "with ThreadPoolExecutor(max_workers=5) as executor:\n",
        "    future_to_q = {executor.submit(call_search, q, 5): q for q in questions}\n",
        "    for future in as_completed(future_to_q):\n",
        "        q = future_to_q[future]\n",
        "        data = future.result()\n",
        "        results_search.append((q, data))\n",
        "print(f\"Completed search for {len(results_search)} questions.\")\n",
        "\n",
        "# Print search results\n",
        "for idx, (q, res) in enumerate(results_search, 1):\n",
        "    print(f\"Question {idx}: {q}\")\n",
        "    print(res)\n",
        "    print('-' * 60)\n"
      ]
    }
  ],
  "metadata": {
    "colab": {
      "provenance": []
    },
    "language_info": {
      "name": "python"
    },
    "kernelspec": {
      "name": "python3",
      "display_name": "Python 3"
    }
  },
  "nbformat": 4,
  "nbformat_minor": 5
}